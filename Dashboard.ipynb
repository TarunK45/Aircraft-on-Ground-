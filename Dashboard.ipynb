{
 "cells": [
  {
   "cell_type": "code",
   "execution_count": 1,
   "id": "025d3fea",
   "metadata": {},
   "outputs": [
    {
     "name": "stdout",
     "output_type": "stream",
     "text": [
      "Requirement already satisfied: dash in c:\\users\\tarun\\anaconda3\\lib\\site-packages (2.18.1)Note: you may need to restart the kernel to use updated packages.\n",
      "\n",
      "Requirement already satisfied: dash-bootstrap-components in c:\\users\\tarun\\anaconda3\\lib\\site-packages (1.6.0)\n",
      "Requirement already satisfied: pandas in c:\\users\\tarun\\anaconda3\\lib\\site-packages (2.0.3)\n",
      "Requirement already satisfied: plotly in c:\\users\\tarun\\anaconda3\\lib\\site-packages (5.9.0)\n",
      "Requirement already satisfied: Flask<3.1,>=1.0.4 in c:\\users\\tarun\\anaconda3\\lib\\site-packages (from dash) (2.2.2)\n",
      "Requirement already satisfied: Werkzeug<3.1 in c:\\users\\tarun\\anaconda3\\lib\\site-packages (from dash) (2.2.3)\n",
      "Requirement already satisfied: dash-html-components==2.0.0 in c:\\users\\tarun\\anaconda3\\lib\\site-packages (from dash) (2.0.0)\n",
      "Requirement already satisfied: dash-core-components==2.0.0 in c:\\users\\tarun\\anaconda3\\lib\\site-packages (from dash) (2.0.0)\n",
      "Requirement already satisfied: dash-table==5.0.0 in c:\\users\\tarun\\anaconda3\\lib\\site-packages (from dash) (5.0.0)\n",
      "Requirement already satisfied: importlib-metadata in c:\\users\\tarun\\anaconda3\\lib\\site-packages (from dash) (6.0.0)\n",
      "Requirement already satisfied: typing-extensions>=4.1.1 in c:\\users\\tarun\\anaconda3\\lib\\site-packages (from dash) (4.7.1)\n",
      "Requirement already satisfied: requests in c:\\users\\tarun\\anaconda3\\lib\\site-packages (from dash) (2.31.0)\n",
      "Requirement already satisfied: retrying in c:\\users\\tarun\\anaconda3\\lib\\site-packages (from dash) (1.3.4)\n",
      "Requirement already satisfied: nest-asyncio in c:\\users\\tarun\\anaconda3\\lib\\site-packages (from dash) (1.5.6)\n",
      "Requirement already satisfied: setuptools in c:\\users\\tarun\\anaconda3\\lib\\site-packages (from dash) (68.0.0)\n",
      "Requirement already satisfied: python-dateutil>=2.8.2 in c:\\users\\tarun\\anaconda3\\lib\\site-packages (from pandas) (2.8.2)\n",
      "Requirement already satisfied: pytz>=2020.1 in c:\\users\\tarun\\anaconda3\\lib\\site-packages (from pandas) (2023.3.post1)\n",
      "Requirement already satisfied: tzdata>=2022.1 in c:\\users\\tarun\\anaconda3\\lib\\site-packages (from pandas) (2023.3)\n",
      "Requirement already satisfied: numpy>=1.21.0 in c:\\users\\tarun\\anaconda3\\lib\\site-packages (from pandas) (1.24.3)\n",
      "Requirement already satisfied: tenacity>=6.2.0 in c:\\users\\tarun\\anaconda3\\lib\\site-packages (from plotly) (8.2.2)\n",
      "Requirement already satisfied: Jinja2>=3.0 in c:\\users\\tarun\\anaconda3\\lib\\site-packages (from Flask<3.1,>=1.0.4->dash) (3.1.2)\n",
      "Requirement already satisfied: itsdangerous>=2.0 in c:\\users\\tarun\\anaconda3\\lib\\site-packages (from Flask<3.1,>=1.0.4->dash) (2.0.1)\n",
      "Requirement already satisfied: click>=8.0 in c:\\users\\tarun\\anaconda3\\lib\\site-packages (from Flask<3.1,>=1.0.4->dash) (8.0.4)\n",
      "Requirement already satisfied: six>=1.5 in c:\\users\\tarun\\anaconda3\\lib\\site-packages (from python-dateutil>=2.8.2->pandas) (1.16.0)\n",
      "Requirement already satisfied: MarkupSafe>=2.1.1 in c:\\users\\tarun\\anaconda3\\lib\\site-packages (from Werkzeug<3.1->dash) (2.1.1)\n",
      "Requirement already satisfied: zipp>=0.5 in c:\\users\\tarun\\anaconda3\\lib\\site-packages (from importlib-metadata->dash) (3.11.0)\n",
      "Requirement already satisfied: charset-normalizer<4,>=2 in c:\\users\\tarun\\anaconda3\\lib\\site-packages (from requests->dash) (2.0.4)\n",
      "Requirement already satisfied: idna<4,>=2.5 in c:\\users\\tarun\\anaconda3\\lib\\site-packages (from requests->dash) (3.4)\n",
      "Requirement already satisfied: urllib3<3,>=1.21.1 in c:\\users\\tarun\\anaconda3\\lib\\site-packages (from requests->dash) (1.26.16)\n",
      "Requirement already satisfied: certifi>=2017.4.17 in c:\\users\\tarun\\anaconda3\\lib\\site-packages (from requests->dash) (2023.7.22)\n",
      "Requirement already satisfied: colorama in c:\\users\\tarun\\anaconda3\\lib\\site-packages (from click>=8.0->Flask<3.1,>=1.0.4->dash) (0.4.6)\n"
     ]
    }
   ],
   "source": [
    "pip install dash dash-bootstrap-components pandas plotly"
   ]
  },
  {
   "cell_type": "code",
   "execution_count": 2,
   "id": "eca79df6",
   "metadata": {},
   "outputs": [],
   "source": [
    "import dash\n",
    "from dash import dcc, html, dash_table\n",
    "from dash.dependencies import Input, Output\n",
    "import pandas as pd\n",
    "import plotly.express as px"
   ]
  },
  {
   "cell_type": "code",
   "execution_count": 3,
   "id": "124ffbc0",
   "metadata": {},
   "outputs": [],
   "source": [
    "df = pd.read_csv('aircraft_parts_data_with_airlines_updated.csv', parse_dates=['Last Maintenance Date'])"
   ]
  },
  {
   "cell_type": "code",
   "execution_count": 4,
   "id": "be30c456",
   "metadata": {},
   "outputs": [
    {
     "name": "stdout",
     "output_type": "stream",
     "text": [
      "Requirement already satisfied: dash-bootstrap-components in c:\\users\\tarun\\anaconda3\\lib\\site-packages (1.6.0)\n",
      "Requirement already satisfied: dash>=2.0.0 in c:\\users\\tarun\\anaconda3\\lib\\site-packages (from dash-bootstrap-components) (2.18.1)\n",
      "Requirement already satisfied: Flask<3.1,>=1.0.4 in c:\\users\\tarun\\anaconda3\\lib\\site-packages (from dash>=2.0.0->dash-bootstrap-components) (2.2.2)\n",
      "Requirement already satisfied: Werkzeug<3.1 in c:\\users\\tarun\\anaconda3\\lib\\site-packages (from dash>=2.0.0->dash-bootstrap-components) (2.2.3)\n",
      "Requirement already satisfied: plotly>=5.0.0 in c:\\users\\tarun\\anaconda3\\lib\\site-packages (from dash>=2.0.0->dash-bootstrap-components) (5.9.0)\n",
      "Requirement already satisfied: dash-html-components==2.0.0 in c:\\users\\tarun\\anaconda3\\lib\\site-packages (from dash>=2.0.0->dash-bootstrap-components) (2.0.0)\n",
      "Requirement already satisfied: dash-core-components==2.0.0 in c:\\users\\tarun\\anaconda3\\lib\\site-packages (from dash>=2.0.0->dash-bootstrap-components) (2.0.0)\n",
      "Requirement already satisfied: dash-table==5.0.0 in c:\\users\\tarun\\anaconda3\\lib\\site-packages (from dash>=2.0.0->dash-bootstrap-components) (5.0.0)\n",
      "Requirement already satisfied: importlib-metadata in c:\\users\\tarun\\anaconda3\\lib\\site-packages (from dash>=2.0.0->dash-bootstrap-components) (6.0.0)\n",
      "Requirement already satisfied: typing-extensions>=4.1.1 in c:\\users\\tarun\\anaconda3\\lib\\site-packages (from dash>=2.0.0->dash-bootstrap-components) (4.7.1)\n",
      "Requirement already satisfied: requests in c:\\users\\tarun\\anaconda3\\lib\\site-packages (from dash>=2.0.0->dash-bootstrap-components) (2.31.0)\n",
      "Requirement already satisfied: retrying in c:\\users\\tarun\\anaconda3\\lib\\site-packages (from dash>=2.0.0->dash-bootstrap-components) (1.3.4)\n",
      "Requirement already satisfied: nest-asyncio in c:\\users\\tarun\\anaconda3\\lib\\site-packages (from dash>=2.0.0->dash-bootstrap-components) (1.5.6)\n",
      "Requirement already satisfied: setuptools in c:\\users\\tarun\\anaconda3\\lib\\site-packages (from dash>=2.0.0->dash-bootstrap-components) (68.0.0)\n",
      "Requirement already satisfied: Jinja2>=3.0 in c:\\users\\tarun\\anaconda3\\lib\\site-packages (from Flask<3.1,>=1.0.4->dash>=2.0.0->dash-bootstrap-components) (3.1.2)\n",
      "Requirement already satisfied: itsdangerous>=2.0 in c:\\users\\tarun\\anaconda3\\lib\\site-packages (from Flask<3.1,>=1.0.4->dash>=2.0.0->dash-bootstrap-components) (2.0.1)\n",
      "Requirement already satisfied: click>=8.0 in c:\\users\\tarun\\anaconda3\\lib\\site-packages (from Flask<3.1,>=1.0.4->dash>=2.0.0->dash-bootstrap-components) (8.0.4)\n",
      "Requirement already satisfied: tenacity>=6.2.0 in c:\\users\\tarun\\anaconda3\\lib\\site-packages (from plotly>=5.0.0->dash>=2.0.0->dash-bootstrap-components) (8.2.2)\n",
      "Requirement already satisfied: MarkupSafe>=2.1.1 in c:\\users\\tarun\\anaconda3\\lib\\site-packages (from Werkzeug<3.1->dash>=2.0.0->dash-bootstrap-components) (2.1.1)\n",
      "Requirement already satisfied: zipp>=0.5 in c:\\users\\tarun\\anaconda3\\lib\\site-packages (from importlib-metadata->dash>=2.0.0->dash-bootstrap-components) (3.11.0)\n",
      "Requirement already satisfied: charset-normalizer<4,>=2 in c:\\users\\tarun\\anaconda3\\lib\\site-packages (from requests->dash>=2.0.0->dash-bootstrap-components) (2.0.4)\n",
      "Requirement already satisfied: idna<4,>=2.5 in c:\\users\\tarun\\anaconda3\\lib\\site-packages (from requests->dash>=2.0.0->dash-bootstrap-components) (3.4)\n",
      "Requirement already satisfied: urllib3<3,>=1.21.1 in c:\\users\\tarun\\anaconda3\\lib\\site-packages (from requests->dash>=2.0.0->dash-bootstrap-components) (1.26.16)\n",
      "Requirement already satisfied: certifi>=2017.4.17 in c:\\users\\tarun\\anaconda3\\lib\\site-packages (from requests->dash>=2.0.0->dash-bootstrap-components) (2023.7.22)\n",
      "Requirement already satisfied: six>=1.7.0 in c:\\users\\tarun\\anaconda3\\lib\\site-packages (from retrying->dash>=2.0.0->dash-bootstrap-components) (1.16.0)\n",
      "Requirement already satisfied: colorama in c:\\users\\tarun\\anaconda3\\lib\\site-packages (from click>=8.0->Flask<3.1,>=1.0.4->dash>=2.0.0->dash-bootstrap-components) (0.4.6)\n",
      "Note: you may need to restart the kernel to use updated packages.\n"
     ]
    }
   ],
   "source": [
    "pip install dash-bootstrap-components"
   ]
  },
  {
   "cell_type": "code",
   "execution_count": 5,
   "id": "67a26794",
   "metadata": {},
   "outputs": [],
   "source": [
    "import dash_bootstrap_components as dbc"
   ]
  },
  {
   "cell_type": "code",
   "execution_count": 6,
   "id": "0f7b76eb",
   "metadata": {},
   "outputs": [],
   "source": [
    "import dash\n",
    "from dash import dcc, html, dash_table\n",
    "from dash.dependencies import Input, Output\n",
    "import dash_bootstrap_components as dbc\n",
    "import pandas as pd\n",
    "import plotly.express as px"
   ]
  },
  {
   "cell_type": "code",
   "execution_count": 7,
   "id": "9abf1fa1",
   "metadata": {},
   "outputs": [],
   "source": [
    "df = pd.read_csv('aircraft_parts_data_with_airlines_updated.csv', parse_dates=['Last Maintenance Date'])"
   ]
  },
  {
   "cell_type": "code",
   "execution_count": 8,
   "id": "3069de79",
   "metadata": {},
   "outputs": [],
   "source": [
    "app = dash.Dash(__name__, external_stylesheets=[dbc.themes.BOOTSTRAP])"
   ]
  },
  {
   "cell_type": "code",
   "execution_count": 9,
   "id": "ea247f88",
   "metadata": {},
   "outputs": [],
   "source": [
    "app.layout = dbc.Container([\n",
    "    dbc.Row(\n",
    "        dbc.Col(\n",
    "            html.H1(\"Real-Time Aircraft Parts Monitoring Dashboard\", className='text-center text-primary mb-4'),\n",
    "            width=12\n",
    "        )\n",
    "    ),\n",
    "    \n",
    "    dbc.Row([\n",
    "        dbc.Col([\n",
    "            html.Label(\"Select Airline:\"),\n",
    "            dcc.Dropdown(\n",
    "                id='airline-dropdown',\n",
    "                options=[{'label': airline, 'value': airline} for airline in df['Airline'].unique()],\n",
    "                value=df['Airline'].unique().tolist(),\n",
    "                multi=True\n",
    "            )\n",
    "        ], width=6),\n",
    "        \n",
    "        dbc.Col([\n",
    "            html.Label(\"Select Aircraft Type:\"),\n",
    "            dcc.Dropdown(\n",
    "                id='aircraft-dropdown',\n",
    "                options=[{'label': ac, 'value': ac} for ac in df['Aircraft Type'].unique()],\n",
    "                value=df['Aircraft Type'].unique().tolist(),\n",
    "                multi=True\n",
    "            )\n",
    "        ], width=6),\n",
    "    ], className='mb-4'),\n",
    "    \n",
    "    dbc.Row([\n",
    "        dbc.Col([\n",
    "            dcc.Graph(id='risk-by-part')\n",
    "        ], width=6),\n",
    "        \n",
    "        dbc.Col([\n",
    "            dcc.Graph(id='condition-distribution')\n",
    "        ], width=6),\n",
    "    ]),\n",
    "    \n",
    "    dbc.Row([\n",
    "        dbc.Col([\n",
    "            dash_table.DataTable(\n",
    "                id='parts-table',\n",
    "                columns=[{\"name\": i, \"id\": i} for i in df.columns],\n",
    "                data=df.to_dict('records'),\n",
    "                page_size=10,\n",
    "                filter_action='native',\n",
    "                sort_action='native',\n",
    "                style_table={'overflowX': 'auto'},\n",
    "                style_cell={\n",
    "                    'minWidth': '150px', 'width': '150px', 'maxWidth': '150px',\n",
    "                    'whiteSpace': 'normal'\n",
    "                },\n",
    "                style_data_conditional=[\n",
    "                    {\n",
    "                        'if': {\n",
    "                            'filter_query': '{Predicted Damage} = 1',\n",
    "                            'column_id': 'Predicted Damage'\n",
    "                        },\n",
    "                        'backgroundColor': 'tomato',\n",
    "                        'color': 'white',\n",
    "                        'fontWeight': 'bold'\n",
    "                    },\n",
    "                    {\n",
    "                        'if': {\n",
    "                            'filter_query': '{Risk of Failure} > 0.8',\n",
    "                            'column_id': 'Risk of Failure'\n",
    "                        },\n",
    "                        'backgroundColor': 'red',\n",
    "                        'color': 'white',\n",
    "                        'fontWeight': 'bold'\n",
    "                    }\n",
    "                ]\n",
    "            )\n",
    "        ], width=12)\n",
    "    ], className='mt-4'),\n",
    "    \n",
    "    # Refresh Interval\n",
    "    dcc.Interval(\n",
    "        id='interval-component',\n",
    "        interval=60*1000,  # in milliseconds (60 seconds)\n",
    "        n_intervals=0\n",
    "    ),\n",
    "], fluid=True)"
   ]
  },
  {
   "cell_type": "code",
   "execution_count": 10,
   "id": "63d2d1f9",
   "metadata": {},
   "outputs": [
    {
     "data": {
      "text/html": [
       "\n",
       "        <iframe\n",
       "            width=\"100%\"\n",
       "            height=\"650\"\n",
       "            src=\"http://127.0.0.1:8050/\"\n",
       "            frameborder=\"0\"\n",
       "            allowfullscreen\n",
       "            \n",
       "        ></iframe>\n",
       "        "
      ],
      "text/plain": [
       "<IPython.lib.display.IFrame at 0x21b45059690>"
      ]
     },
     "metadata": {},
     "output_type": "display_data"
    }
   ],
   "source": [
    "@app.callback(\n",
    "    [Output('risk-by-part', 'figure'),\n",
    "     Output('condition-distribution', 'figure'),\n",
    "     Output('parts-table', 'data')],\n",
    "    [Input('airline-dropdown', 'value'),\n",
    "     Input('aircraft-dropdown', 'value'),\n",
    "     Input('interval-component', 'n_intervals')]\n",
    ")\n",
    "def update_dashboard(selected_airlines, selected_aircrafts, n):\n",
    "    \n",
    "    updated_df = pd.read_csv('aircraft_parts_data_with_airlines_updated.csv', parse_dates=['Last Maintenance Date'])\n",
    "    \n",
    "    filtered_df = updated_df[\n",
    "        (updated_df['Airline'].isin(selected_airlines)) &\n",
    "        (updated_df['Aircraft Type'].isin(selected_aircrafts))\n",
    "    ]\n",
    "    \n",
    "    risk_summary = filtered_df.groupby('Part Name')['Risk of Failure'].mean().reset_index()\n",
    "    fig1 = px.bar(risk_summary, x='Part Name', y='Risk of Failure',\n",
    "                 title='Average Risk of Failure by Part',\n",
    "                 labels={'Risk of Failure': 'Average Risk Score'},\n",
    "                 hover_data={'Part Name': True, 'Risk of Failure': ':.2f'})\n",
    "    fig1.update_layout(xaxis_tickangle=-45)\n",
    "    \n",
    "    condition_counts = filtered_df['Current Condition'].value_counts().reset_index()\n",
    "    condition_counts.columns = ['Current Condition', 'Count']\n",
    "    fig2 = px.pie(condition_counts, names='Current Condition', values='Count',\n",
    "                 title='Distribution of Current Conditions')\n",
    "    \n",
    "    table_data = filtered_df.to_dict('records')\n",
    "    \n",
    "    return fig1, fig2, table_data\n",
    "\n",
    "if __name__ == '__main__':\n",
    "    app.run_server(debug=True)"
   ]
  },
  {
   "cell_type": "code",
   "execution_count": null,
   "id": "fa41cf6a",
   "metadata": {},
   "outputs": [],
   "source": []
  }
 ],
 "metadata": {
  "kernelspec": {
   "display_name": "Python 3 (ipykernel)",
   "language": "python",
   "name": "python3"
  },
  "language_info": {
   "codemirror_mode": {
    "name": "ipython",
    "version": 3
   },
   "file_extension": ".py",
   "mimetype": "text/x-python",
   "name": "python",
   "nbconvert_exporter": "python",
   "pygments_lexer": "ipython3",
   "version": "3.11.5"
  }
 },
 "nbformat": 4,
 "nbformat_minor": 5
}
